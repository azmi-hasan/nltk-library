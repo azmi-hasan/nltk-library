{
 "cells": [
  {
   "cell_type": "code",
   "execution_count": 3,
   "id": "d461e44b",
   "metadata": {},
   "outputs": [],
   "source": [
    "import pandas as pd\n",
    "import nltk\n",
    "import string\n",
    "from nltk.tokenize import TweetTokenizer"
   ]
  },
  {
   "cell_type": "code",
   "execution_count": 4,
   "id": "23d57570",
   "metadata": {},
   "outputs": [
    {
     "name": "stderr",
     "output_type": "stream",
     "text": [
      "[nltk_data] Downloading package stopwords to\n",
      "[nltk_data]     C:\\Users\\hasan\\AppData\\Roaming\\nltk_data...\n",
      "[nltk_data]   Package stopwords is already up-to-date!\n"
     ]
    }
   ],
   "source": [
    "nltk.download('stopwords')\n",
    "from nltk.corpus import stopwords"
   ]
  },
  {
   "cell_type": "code",
   "execution_count": 8,
   "id": "0ae33e6b",
   "metadata": {},
   "outputs": [
    {
     "name": "stderr",
     "output_type": "stream",
     "text": [
      "[nltk_data] Downloading package vader_lexicon to\n",
      "[nltk_data]     C:\\Users\\hasan\\AppData\\Roaming\\nltk_data...\n",
      "[nltk_data]   Package vader_lexicon is already up-to-date!\n"
     ]
    }
   ],
   "source": [
    "nltk.download('vader_lexicon')\n",
    "from nltk.sentiment.vader import SentimentIntensityAnalyzer\n",
    "import time\n",
    "from sklearn import svm\n",
    "from sklearn.metrics import classification_report\n",
    "import csv\n",
    "from sklearn.feature_extraction.text import TfidfVectorizer\n"
   ]
  },
  {
   "cell_type": "code",
   "execution_count": 10,
   "id": "d824132d",
   "metadata": {},
   "outputs": [],
   "source": [
    "tweetFile = pd.read_csv(\"Tweets-Data.csv\")\n",
    "dataFrame = pd.DataFrame(tweetFile[['tweet_data']])\n",
    "tweetData = tweetFile['tweet_data']"
   ]
  },
  {
   "cell_type": "code",
   "execution_count": 11,
   "id": "41ed7096",
   "metadata": {},
   "outputs": [],
   "source": [
    "tknzr = TweetTokenizer()\n",
    "stopWords = set(stopwords.words(\"english\"))"
   ]
  },
  {
   "cell_type": "code",
   "execution_count": 13,
   "id": "1deb67ec",
   "metadata": {},
   "outputs": [],
   "source": [
    "# words = word_tokenize(data[0]) #For 1 line\n"
   ]
  },
  {
   "cell_type": "code",
   "execution_count": 14,
   "id": "2bb38f60",
   "metadata": {},
   "outputs": [],
   "source": [
    "cleanedData = []\n",
    "cleaned = []"
   ]
  },
  {
   "cell_type": "code",
   "execution_count": 17,
   "id": "baa20a6d",
   "metadata": {},
   "outputs": [],
   "source": [
    "for line in tweetData:\n",
    "    tweet = tknzr.tokenize(str(line))\n",
    "\n",
    "    for word in tweet:\n",
    "        if word not in string.punctuation:\n",
    "            if '@' not in word:\n",
    "                cleaned.append(word)\n",
    "\n",
    "    cleanedData.append(cleaned)\n",
    "    cleaned = []\n",
    "\n"
   ]
  },
  {
   "cell_type": "code",
   "execution_count": 31,
   "id": "020200b5",
   "metadata": {},
   "outputs": [],
   "source": [
    "sentencedData = []\n",
    "\n",
    "for sentence in cleanedData:\n",
    "    sentencedData.append(\" \".join(sentence))\n",
    "    \n",
    "tweetFile.insert(4, \"clean_data1\" , \"\")\n",
    "\n",
    "cleanData = tweetFile['clean_data1']"
   ]
  },
  {
   "cell_type": "code",
   "execution_count": 23,
   "id": "21e07da5",
   "metadata": {},
   "outputs": [
    {
     "name": "stderr",
     "output_type": "stream",
     "text": [
      "C:\\Users\\hasan\\AppData\\Local\\Temp\\ipykernel_1212\\3290772980.py:4: SettingWithCopyWarning: \n",
      "A value is trying to be set on a copy of a slice from a DataFrame\n",
      "\n",
      "See the caveats in the documentation: https://pandas.pydata.org/pandas-docs/stable/user_guide/indexing.html#returning-a-view-versus-a-copy\n",
      "  cleanData[i] = sentencedData[i]\n"
     ]
    }
   ],
   "source": [
    "i = 0\n",
    "\n",
    "for row in sentencedData:\n",
    "    cleanData[i] = sentencedData[i]\n",
    "    i = i + 1"
   ]
  },
  {
   "cell_type": "code",
   "execution_count": 32,
   "id": "e6661aaf",
   "metadata": {},
   "outputs": [],
   "source": [
    "loopData = [0, 1, 2, 3, 4]\n",
    "time_linear_train = []\n",
    "time_linear_predict = []"
   ]
  },
  {
   "cell_type": "code",
   "execution_count": 33,
   "id": "b0c86b7a",
   "metadata": {},
   "outputs": [
    {
     "name": "stdout",
     "output_type": "stream",
     "text": [
      "Training time: 0.926514s; Prediction time: 0.140625s\n",
      "positive:  {'precision': 0.6641221374045801, 'recall': 0.5370370370370371, 'f1-score': 0.5938566552901025, 'support': 162}\n",
      "negative:  {'precision': 0.6294964028776978, 'recall': 0.7543103448275862, 'f1-score': 0.6862745098039216, 'support': 232}\n",
      "Training time: 0.906259s; Prediction time: 0.154869s\n",
      "positive:  {'precision': 0.6641221374045801, 'recall': 0.5370370370370371, 'f1-score': 0.5938566552901025, 'support': 162}\n",
      "negative:  {'precision': 0.6294964028776978, 'recall': 0.7543103448275862, 'f1-score': 0.6862745098039216, 'support': 232}\n",
      "Training time: 0.985456s; Prediction time: 0.140621s\n",
      "positive:  {'precision': 0.6641221374045801, 'recall': 0.5370370370370371, 'f1-score': 0.5938566552901025, 'support': 162}\n",
      "negative:  {'precision': 0.6294964028776978, 'recall': 0.7543103448275862, 'f1-score': 0.6862745098039216, 'support': 232}\n",
      "Training time: 0.890635s; Prediction time: 0.153018s\n",
      "positive:  {'precision': 0.6641221374045801, 'recall': 0.5370370370370371, 'f1-score': 0.5938566552901025, 'support': 162}\n",
      "negative:  {'precision': 0.6294964028776978, 'recall': 0.7543103448275862, 'f1-score': 0.6862745098039216, 'support': 232}\n",
      "Training time: 0.967871s; Prediction time: 0.167993s\n",
      "positive:  {'precision': 0.6641221374045801, 'recall': 0.5370370370370371, 'f1-score': 0.5938566552901025, 'support': 162}\n",
      "negative:  {'precision': 0.6294964028776978, 'recall': 0.7543103448275862, 'f1-score': 0.6862745098039216, 'support': 232}\n"
     ]
    }
   ],
   "source": [
    "for loop in loopData:\n",
    "    t0 = 0\n",
    "    t1 = 0\n",
    "    t2 = 0\n",
    "\n",
    "    tweetDataCopy = tweetFile.copy()\n",
    "\n",
    "    trainedTweetData = tweetDataCopy.sample(frac=.8, random_state=0)\n",
    "    testTweetData = tweetDataCopy.drop(trainedTweetData.index)\n",
    "\n",
    "    sid = SentimentIntensityAnalyzer()\n",
    "    i = 0\n",
    "    sentimentData = []\n",
    "\n",
    "    for sentence in trainedTweetData['clean_data']:\n",
    "        sentimentData.append(sid.polarity_scores(sentence)['compound'])\n",
    "\n",
    "    sentimentLabel = []\n",
    "\n",
    "    for sentiment in sentimentData:\n",
    "        if sentiment >= 0.05:\n",
    "            sentimentLabel.append(\"pos\")\n",
    "        elif sentiment <= -0.05:\n",
    "            sentimentLabel.append(\"neg\")\n",
    "        else:\n",
    "            sentimentLabel.append(\"neu\")\n",
    "\n",
    "    i = 0\n",
    "    sentimentTestData = []\n",
    "\n",
    "    for sentence in testTweetData['clean_data']:\n",
    "        sentimentTestData.append(sid.polarity_scores(sentence)['compound'])\n",
    "\n",
    "    sentimentForTestLabel = []\n",
    "\n",
    "    for sentiment in sentimentTestData:\n",
    "        if sentiment >= 0.05:\n",
    "            sentimentForTestLabel.append(\"pos\")\n",
    "        elif sentiment <= -0.05:\n",
    "            sentimentForTestLabel.append(\"neg\")\n",
    "        else:\n",
    "            sentimentForTestLabel.append(\"neu\")\n",
    "\n",
    "    data = {'clean_data': testTweetData.clean_data, 'sentiment': sentimentForTestLabel}\n",
    "    df = pd.DataFrame(data)\n",
    "    df.to_csv('test-data.csv')\n",
    "\n",
    "    data = {'clean_data': trainedTweetData.clean_data, 'sentiment': sentimentLabel}\n",
    "    df = pd.DataFrame(data)\n",
    "    df.to_csv('train-data.csv')\n",
    "\n",
    "    testData = pd.read_csv('test-data.csv')\n",
    "    trainData = pd.read_csv('train-data.csv')\n",
    "\n",
    "    # Create feature vectors\n",
    "    vectorizer = TfidfVectorizer(min_df=5, max_df=0.8, sublinear_tf=True, use_idf=True)\n",
    "\n",
    "    train_vectors = vectorizer.fit_transform(trainData['clean_data'].values.astype('U'))\n",
    "    test_vectors = vectorizer.transform(testData['clean_data'].values.astype('U'))\n",
    "\n",
    "    # Perform classification with SVM, kernel=linear\n",
    "    classifier_linear = svm.SVC(kernel='linear')\n",
    "\n",
    "    t0 = time.time()\n",
    "\n",
    "    classifier_linear.fit(train_vectors, trainData['sentiment'])\n",
    "\n",
    "    t1 = time.time()\n",
    "\n",
    "    prediction_linear = classifier_linear.predict(test_vectors)\n",
    "\n",
    "    t2 = time.time()\n",
    "\n",
    "    time_linear_train.append(t1 - t0)\n",
    "    time_linear_predict.append(t2 - t1)\n",
    "\n",
    "    # results\n",
    "    print(\"Training time: %fs; Prediction time: %fs\" % (time_linear_train[loop], time_linear_predict[loop]))\n",
    "    report = classification_report(testData['sentiment'], prediction_linear, output_dict=True)\n",
    "\n",
    "    print('positive: ', report['pos'])\n",
    "    print('negative: ', report['neg'])\n",
    "\n",
    "totalTrainTime = 0\n",
    "totalPredictTime = 0"
   ]
  },
  {
   "cell_type": "code",
   "execution_count": 34,
   "id": "f82ee3c0",
   "metadata": {},
   "outputs": [],
   "source": [
    "for i in loopData:\n",
    "    #   for j in loopData:\n",
    "    #     if time_linear_train[i] < time_linear_train[j]:\n",
    "    #       minTimeOfLinearTrain = time_linear_train[i]\n",
    "    #     else:\n",
    "    #       minTimeOfLinearTrain = time_linear_train[j]\n",
    "\n",
    "    #     if time_linear_predict[i] < time_linear_predict[j]:\n",
    "    #       minTimeOfLinearPredict = time_linear_predict[i]\n",
    "    #     else:\n",
    "    #       minTimeOfLinearPredict = time_linear_predict[j]\n",
    "    totalTrainTime = totalTrainTime + time_linear_train[i]\n",
    "    totalPredictTime = totalPredictTime + time_linear_predict[i]"
   ]
  },
  {
   "cell_type": "code",
   "execution_count": 36,
   "id": "66ce1cb9",
   "metadata": {},
   "outputs": [
    {
     "name": "stdout",
     "output_type": "stream",
     "text": [
      "Average training time: 0.935347s\n",
      "Average prediction time: 0.151425s\n"
     ]
    }
   ],
   "source": [
    "print(\"Average training time: %fs\" % (totalTrainTime / 5))\n",
    "print(\"Average prediction time: %fs\" % (totalPredictTime / 5))"
   ]
  },
  {
   "cell_type": "code",
   "execution_count": null,
   "id": "d0a73d6b",
   "metadata": {},
   "outputs": [],
   "source": []
  },
  {
   "cell_type": "code",
   "execution_count": null,
   "id": "f431b3fe",
   "metadata": {},
   "outputs": [],
   "source": []
  }
 ],
 "metadata": {
  "kernelspec": {
   "display_name": "Python 3 (ipykernel)",
   "language": "python",
   "name": "python3"
  },
  "language_info": {
   "codemirror_mode": {
    "name": "ipython",
    "version": 3
   },
   "file_extension": ".py",
   "mimetype": "text/x-python",
   "name": "python",
   "nbconvert_exporter": "python",
   "pygments_lexer": "ipython3",
   "version": "3.9.12"
  }
 },
 "nbformat": 4,
 "nbformat_minor": 5
}
